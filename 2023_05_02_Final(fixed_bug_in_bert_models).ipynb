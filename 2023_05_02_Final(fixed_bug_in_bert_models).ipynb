{
  "cells": [
    {
      "cell_type": "markdown",
      "metadata": {
        "id": "nDxdblMjRae5"
      },
      "source": [
        "# Import Libraries"
      ]
    },
    {
      "cell_type": "code",
      "execution_count": null,
      "metadata": {
        "id": "__4s507BCvMr"
      },
      "outputs": [],
      "source": [
        "# Import libraries\n",
        "import pandas as pd\n",
        "import numpy as np\n",
        "import matplotlib.pyplot as plt\n",
        "from sklearn.model_selection import train_test_split, cross_val_score, GridSearchCV\n",
        "from sklearn.feature_extraction.text import CountVectorizer\n",
        "from sklearn.linear_model import LogisticRegression\n",
        "from sklearn.ensemble import RandomForestClassifier\n",
        "from sklearn.metrics import accuracy_score, confusion_matrix\n",
        "from sklearn.neighbors import KNeighborsClassifier\n",
        "from sklearn.decomposition import PCA\n",
        "from scipy.sparse import csr_matrix\n",
        "# from gensim.models import Word2Vec\n",
        "# import joblib\n",
        "\n",
        "import keras\n",
        "from keras.models import Sequential\n",
        "from keras.layers import Dense\n",
        "from keras.optimizers import SGD\n",
        "from keras.constraints import max_norm\n",
        "from keras.wrappers.scikit_learn import KerasClassifier\n",
        "\n",
        "import tensorflow as tf\n",
        "from tensorflow.keras.layers import Dropout\n",
        "from tensorflow.keras import regularizers"
      ]
    },
    {
      "cell_type": "code",
      "execution_count": null,
      "metadata": {
        "id": "GH-htTI8zX5f"
      },
      "outputs": [],
      "source": [
        "# !pip install transformers"
      ]
    },
    {
      "cell_type": "markdown",
      "metadata": {
        "id": "WWTwOXv_QtVZ"
      },
      "source": [
        "# Load Data\n"
      ]
    },
    {
      "cell_type": "markdown",
      "metadata": {
        "id": "pmdNQjY3mqNe"
      },
      "source": []
    },
    {
      "cell_type": "code",
      "execution_count": null,
      "metadata": {
        "id": "OqEgVf9hN8Or"
      },
      "outputs": [],
      "source": [
        "df = pd.read_csv('mental_health.csv')\n",
        "df.head()\n",
        "df.shape"
      ]
    },
    {
      "cell_type": "markdown",
      "metadata": {
        "id": "ASVZ9T0hPgLh"
      },
      "source": [
        "#Data Preprocessing\n",
        "\n",
        "\n"
      ]
    },
    {
      "cell_type": "code",
      "execution_count": null,
      "metadata": {
        "id": "t66xp6KUYS-n"
      },
      "outputs": [],
      "source": [
        "# Check data types\n",
        "df.dtypes"
      ]
    },
    {
      "cell_type": "code",
      "execution_count": null,
      "metadata": {
        "id": "3Xi4IeB_PFoX"
      },
      "outputs": [],
      "source": [
        "# Check missing values\n",
        "df.isnull().sum()"
      ]
    },
    {
      "cell_type": "markdown",
      "metadata": {
        "id": "vVWmeJxVRIid"
      },
      "source": [
        "The dataset does not contain any missing value."
      ]
    },
    {
      "cell_type": "code",
      "execution_count": null,
      "metadata": {
        "id": "ZpAybLbtXR_n"
      },
      "outputs": [],
      "source": [
        "# Check the distribution of mental health status\n",
        "label_0_count = df[df['label']==0].shape[0]\n",
        "label_1_count = df[df['label']==1].shape[0]\n",
        "print(\"Number of entries with label = 0: {}\".format(label_0_count))\n",
        "print(\"Number of entries with label = 1: {}\".format(label_1_count))"
      ]
    },
    {
      "cell_type": "markdown",
      "metadata": {
        "id": "RyIj7TGqRRUK"
      },
      "source": [
        "# Experimenting with Data"
      ]
    },
    {
      "cell_type": "markdown",
      "metadata": {
        "id": "HQKFJnm9bVQ2"
      },
      "source": [
        "## Vectorize \"text\" variable"
      ]
    },
    {
      "cell_type": "code",
      "execution_count": null,
      "metadata": {
        "id": "IRQYJBXVT621"
      },
      "outputs": [],
      "source": [
        "# Vectorize \"text\" using CountVectorizer\n",
        "# Documentation 1: https://scikit-learn.org/stable/modules/generated/sklearn.feature_extraction.text.CountVectorizer.html\n",
        "# Documentation 2: https://www.geeksforgeeks.org/using-countvectorizer-to-extracting-features-from-text/\n",
        "\n",
        "vectorizer = CountVectorizer()\n",
        "X = vectorizer.fit(df['text'])\n",
        "print(\"Vocabulary: \", vectorizer.vocabulary_)\n",
        "\n",
        "features = vectorizer.transform(df['text'])\n",
        "features = features.toarray()"
      ]
    },
    {
      "cell_type": "code",
      "execution_count": null,
      "metadata": {
        "id": "WDyhcsIHzX5i"
      },
      "outputs": [],
      "source": [
        "print(features.shape)"
      ]
    },
    {
      "cell_type": "code",
      "execution_count": null,
      "metadata": {
        "id": "HGrhUX1kRf8F"
      },
      "outputs": [],
      "source": [
        "# Split data into training set and testing set\n",
        "x_train, x_test, y_train, y_test = train_test_split(features, df['label'], train_size=0.8, random_state=0)\n",
        "print(\"Number of entries in the training set: {}\".format(x_train.shape[0]))\n",
        "print(\"Number of entries in the testing set: {}\".format(x_test.shape[0]))"
      ]
    },
    {
      "cell_type": "code",
      "execution_count": null,
      "metadata": {
        "id": "h-kYcw2EzX5i"
      },
      "outputs": [],
      "source": [
        "# Get the vocabulary from the CountVectorizer object\n",
        "vocabulary = vectorizer.get_feature_names_out()\n",
        "\n",
        "# Sum the counts of each word across all documents\n",
        "word_counts = np.sum(features, axis=0)\n",
        "\n",
        "# Sort the words in descending order of frequency\n",
        "sorted_idx = np.argsort(word_counts)[::-1]\n",
        "\n",
        "# Get the top 20 words by frequency\n",
        "top_words = [vocabulary[i] for i in sorted_idx[:20]]\n",
        "top_counts = [word_counts[i] for i in sorted_idx[:20]]\n",
        "\n",
        "# Plot the frequency of the top 20 words\n",
        "plt.barh(top_words, top_counts)\n",
        "plt.title('Frequency of Top 20 Words')\n",
        "plt.xlabel('Frequency')\n",
        "plt.ylabel('Word')\n",
        "plt.show()"
      ]
    },
    {
      "cell_type": "code",
      "execution_count": null,
      "metadata": {
        "id": "Dc8gC5nxzX5i"
      },
      "outputs": [],
      "source": [
        "y_train = y_train.to_numpy()\n",
        "y_test = y_test.to_numpy()"
      ]
    },
    {
      "cell_type": "code",
      "execution_count": null,
      "metadata": {
        "id": "6wGpuA8qzX5i"
      },
      "outputs": [],
      "source": [
        "# csr_matrix compress sparse matrix\n",
        "x_train_csr = csr_matrix(x_train)\n",
        "x_test_csr = csr_matrix(x_test)"
      ]
    },
    {
      "cell_type": "code",
      "execution_count": null,
      "metadata": {
        "id": "ugRxHT95zX5i"
      },
      "outputs": [],
      "source": [
        "reg = LogisticRegression(max_iter=1000)\n",
        "reg.fit(x_train_csr, y_train)\n",
        "\n",
        "# predict on test data\n",
        "y_pred = reg.predict(x_test_csr)"
      ]
    },
    {
      "cell_type": "code",
      "execution_count": null,
      "metadata": {
        "id": "hTizNK7ozX5i"
      },
      "outputs": [],
      "source": [
        "accuracy_score(y_pred, y_test)"
      ]
    },
    {
      "cell_type": "markdown",
      "metadata": {
        "id": "0OistjGFzX5i"
      },
      "source": [
        "## Feature selection with PCA"
      ]
    },
    {
      "cell_type": "code",
      "execution_count": null,
      "metadata": {
        "id": "OHZ4ckouzX5j"
      },
      "outputs": [],
      "source": [
        "# Define the number of components to keep\n",
        "n_components = 1000\n",
        "\n",
        "# Perform PCA feature reduction\n",
        "pca = PCA(n_components=n_components)\n",
        "x_train_selected = pca.fit_transform(x_train)\n",
        "x_test_selected = pca.transform(x_test)"
      ]
    },
    {
      "cell_type": "code",
      "execution_count": null,
      "metadata": {
        "id": "YtVjGTx2zX5j"
      },
      "outputs": [],
      "source": [
        "# Save the PCA model and transformed data\n",
        "joblib.dump(pca, 'pca_model.pkl')\n",
        "np.save('x_train_pca.npy', x_train_selected)\n",
        "np.save('x_test_pca.npy', x_test_selected)"
      ]
    },
    {
      "cell_type": "code",
      "execution_count": null,
      "metadata": {
        "id": "S6I1rq4JzX5j"
      },
      "outputs": [],
      "source": [
        "# Load the saved PCA model\n",
        "pca = joblib.load('pca_model.pkl')\n",
        "\n",
        "# Load the saved transformed data\n",
        "x_train_selected = np.load('x_train_pca.npy')\n",
        "x_test_selected = np.load('x_test_pca.npy')"
      ]
    },
    {
      "cell_type": "code",
      "execution_count": null,
      "metadata": {
        "id": "b8UJPQ4mzX5j"
      },
      "outputs": [],
      "source": [
        "reg = LogisticRegression(max_iter=1000)\n",
        "reg.fit(x_train_selected, y_train)\n",
        "\n",
        "# predict on test data\n",
        "y_pred = reg.predict(x_test_selected)"
      ]
    },
    {
      "cell_type": "code",
      "execution_count": null,
      "metadata": {
        "id": "-ggpmGuCzX5j"
      },
      "outputs": [],
      "source": [
        "accuracy_score(y_pred, y_test)"
      ]
    },
    {
      "cell_type": "markdown",
      "metadata": {
        "id": "NvLa4v7TeCW3"
      },
      "source": [
        "## Random Forest"
      ]
    },
    {
      "cell_type": "code",
      "execution_count": null,
      "metadata": {
        "id": "NTBfhn4DeSGa"
      },
      "outputs": [],
      "source": [
        "# Define the parameter grid for the random forest classifier\n",
        "param_grid = {\n",
        "    'n_estimators': [100, 200, 300],\n",
        "    'max_depth': [100, 200, 300],\n",
        "    'min_samples_split': [50, 100, 200, 300]\n",
        "}\n",
        "\n",
        "# Create a random forest classifier object\n",
        "rfc = RandomForestClassifier()\n",
        "\n",
        "# Create a grid search object with cross-validation\n",
        "grid_search = GridSearchCV(rfc, param_grid, cv=5)\n",
        "\n",
        "# Fit the grid search object on the training data\n",
        "grid_search.fit(x_train_selected, y_train)\n",
        "\n",
        "# Print the best hyperparameters found by the grid search\n",
        "print(\"Best hyperparameters:\", grid_search.best_params_)"
      ]
    },
    {
      "cell_type": "code",
      "execution_count": null,
      "metadata": {
        "id": "vksRB9e6zX5j"
      },
      "outputs": [],
      "source": [
        "# Use the best hyperparameters to train a random forest classifier on the training data\n",
        "best_rfc = RandomForestClassifier(**grid_search.best_params_)\n",
        "best_rfc.fit(x_train_selected, y_train)\n",
        "\n",
        "# Use the classifier to make predictions on the testing data\n",
        "predictions = best_rfc.predict(x_test_selected)\n",
        "\n",
        "# Evaluate the best classifier on the testing data\n",
        "accuracy = best_rfc.score(x_test_selected, y_test)\n",
        "print(\"Accuracy:\", accuracy)\n",
        "\n",
        "# Print the confusion matrix\n",
        "cm = confusion_matrix(y_test, predictions)\n",
        "print('Confusion matrix:\\n', cm)"
      ]
    },
    {
      "cell_type": "markdown",
      "metadata": {
        "id": "LcCxKTfvzX5j"
      },
      "source": [
        "## Neural Networks"
      ]
    },
    {
      "cell_type": "code",
      "execution_count": null,
      "metadata": {
        "id": "JEYtZgARzX5j"
      },
      "outputs": [],
      "source": [
        "model = keras.Sequential([\n",
        "    keras.layers.Dense(64, activation='relu', input_shape=(x_train_selected.shape[1],)),\n",
        "    keras.layers.Dense(32, activation='relu'),\n",
        "    keras.layers.Dense(1, activation='sigmoid')\n",
        "])\n",
        "\n",
        "# change learning rate\n",
        "model.compile(loss='binary_crossentropy',\n",
        "              optimizer=SGD(learning_rate=0.001),\n",
        "              metrics=['accuracy'])\n",
        "\n",
        "# train model\n",
        "model.fit(x_train_selected, y_train, epochs=50, batch_size=32,\n",
        "          validation_data=(x_test_selected, y_test))\n",
        "\n",
        "# evaluate model on test set\n",
        "test_loss, test_acc = model.evaluate(x_test_selected, y_test)\n",
        "print('Test accuracy:', test_acc)"
      ]
    },
    {
      "cell_type": "markdown",
      "metadata": {
        "id": "KOcxUmBm2jYe"
      },
      "source": [
        "## Random Froest with Word2Vec"
      ]
    },
    {
      "cell_type": "code",
      "execution_count": null,
      "metadata": {
        "id": "LZ1E9H3E2oy6"
      },
      "outputs": [],
      "source": [
        "train_data, test_data, train_labels, test_labels = train_test_split(df['text'], df['label'], test_size=0.2, random_state=0)\n",
        "\n",
        "# Train a Word2vec model on the training data\n",
        "corpus = [doc.split() for doc in train_data]\n",
        "model = Word2Vec(corpus, vector_size=100, window=5, min_count=5, workers=4)"
      ]
    },
    {
      "cell_type": "code",
      "execution_count": null,
      "metadata": {
        "id": "KG0IkiQ-zX5k"
      },
      "outputs": [],
      "source": [
        "# Define a function to generate feature vectors for each comment\n",
        "def get_vector(text):\n",
        "    words = text.split()\n",
        "    vec = np.zeros((100,))\n",
        "    count = 0\n",
        "    for word in words:\n",
        "        if word in model.wv.key_to_index:\n",
        "            vec += model.wv[word]\n",
        "            count += 1\n",
        "    if count > 0:\n",
        "        return vec / count\n",
        "    else:\n",
        "        return vec"
      ]
    },
    {
      "cell_type": "code",
      "execution_count": null,
      "metadata": {
        "id": "6L8azOCRzX5k"
      },
      "outputs": [],
      "source": [
        "# Generate feature vectors for the training and testing data\n",
        "train_features = np.vstack([get_vector(text) for text in train_data])\n",
        "test_features = np.vstack([get_vector(text) for text in test_data])\n",
        "\n",
        "# Train a random forest classifier on the training data\n",
        "rfc = RandomForestClassifier(n_estimators=100)\n",
        "rfc.fit(train_features, train_labels)\n",
        "\n",
        "# Use the classifier to make predictions on the testing data\n",
        "predictions = rfc.predict(test_features)\n",
        "\n",
        "# Calculate the accuracy of the classifier\n",
        "accuracy = accuracy_score(test_labels, predictions)\n",
        "print('Accuracy:', accuracy)\n",
        "\n",
        "# Print the confusion matrix\n",
        "cm = confusion_matrix(test_labels, predictions)\n",
        "print('Confusion matrix:\\n', cm)"
      ]
    },
    {
      "cell_type": "code",
      "execution_count": null,
      "metadata": {
        "id": "YbaSnngdzX5k"
      },
      "outputs": [],
      "source": [
        "model = keras.Sequential([\n",
        "    keras.layers.Dense(64, activation='relu', input_shape=(train_features.shape[1],)),\n",
        "    keras.layers.Dense(32, activation='relu'),\n",
        "    keras.layers.Dense(1, activation='sigmoid')\n",
        "])\n",
        "\n",
        "# change learning rate\n",
        "model.compile(loss='binary_crossentropy',\n",
        "              optimizer=SGD(learning_rate=0.001),\n",
        "              metrics=['accuracy'])\n",
        "\n",
        "# train model\n",
        "model.fit(train_features, train_labels, epochs=50, batch_size=32,\n",
        "          validation_data=(test_features, y_test))\n",
        "\n",
        "# evaluate model on test set\n",
        "test_loss, test_acc = model.evaluate(test_features, y_test)\n",
        "print('Test accuracy:', test_acc)"
      ]
    },
    {
      "cell_type": "markdown",
      "metadata": {
        "id": "4IQOpfxyzX5k"
      },
      "source": [
        "## BERT with NN"
      ]
    },
    {
      "cell_type": "code",
      "execution_count": null,
      "metadata": {
        "id": "ftFuP0oOzX5k"
      },
      "outputs": [],
      "source": [
        "# BERT Embedding\n",
        "'''\n",
        "import pandas as pd\n",
        "import numpy as np\n",
        "from sklearn.feature_selection import SelectKBest, chi2\n",
        "from sklearn.model_selection import train_test_split\n",
        "from transformers import BertTokenizer\n",
        "from transformers import TFBertModel\n",
        "import tensorflow as tf\n",
        "from tensorflow import keras\n",
        "from transformers import TFDistilBertModel\n",
        "\n",
        "def main():\n",
        "    # Load the dataset\n",
        "    df = pd.read_csv('mental_health.csv')\n",
        "    df = df.iloc[:1500]\n",
        "\n",
        "    # Split the dataset into training and testing sets\n",
        "    train_df, test_df = train_test_split(df, test_size=0.2, random_state=42)\n",
        "\n",
        "    # Initialize the BERT tokenizer\n",
        "    tokenizer = BertTokenizer.from_pretrained('bert-base-uncased')\n",
        "\n",
        "    # Tokenize the text data\n",
        "    train_encodings = tokenizer(train_df['text'].tolist(), truncation=True, padding=True)\n",
        "    test_encodings = tokenizer(test_df['text'].tolist(), truncation=True, padding=True)\n",
        "\n",
        "    # Perform feature selection\n",
        "    selector = SelectKBest(chi2, k='all')\n",
        "    train_features = np.array(train_encodings['input_ids'])\n",
        "    train_features = selector.fit_transform(train_features, train_df['label'])\n",
        "    train_attention_mask = np.array(train_encodings['attention_mask'])\n",
        "    train_attention_mask = selector.transform(train_attention_mask)\n",
        "    test_features = np.array(test_encodings['input_ids'])\n",
        "    test_features = selector.transform(test_features)\n",
        "    test_attention_mask = np.array(test_encodings['attention_mask'])\n",
        "    test_attention_mask = selector.transform(test_attention_mask)\n",
        "\n",
        "    # Load the BERT model\n",
        "    #bert_model = TFDistilBertModel.from_pretrained('distilbert-base-uncased')\n",
        "    bert_model = TFBertModel.from_pretrained('bert-base-uncased')\n",
        "\n",
        "    # Generate the BERT embeddings\n",
        "    train_embeddings = bert_model([train_features, train_attention_mask])[0][:, 0, :]\n",
        "    test_embeddings = bert_model([test_features, test_attention_mask])[0][:, 0, :]\n",
        "\n",
        "    # Save the train and test embeddings to files\n",
        "    np.save('train_embeddings.npy', train_embeddings)\n",
        "    np.save('test_embeddings.npy', test_embeddings)\n",
        "\n",
        "    # Load the saved embeddings from files\n",
        "    #train_embeddings = np.load('train_embeddings.npy')\n",
        "    #test_embeddings = np.load('test_embeddings.npy')\n",
        "\n",
        "\n",
        "    # Define the neural network model\n",
        "    model = keras.Sequential([\n",
        "        keras.layers.Dense(64, activation='relu', input_shape=(768,)),\n",
        "        keras.layers.Dense(32, activation='relu'),\n",
        "        keras.layers.Dense(16, activation='relu'),\n",
        "        keras.layers.Dense(1, activation='sigmoid')\n",
        "    ])\n",
        "\n",
        "    # Compile the neural network model\n",
        "    model.compile(loss='binary_crossentropy',\n",
        "                optimizer=tf.keras.optimizers.legacy.Adam(learning_rate=0.001),\n",
        "                metrics=['accuracy'])\n",
        "\n",
        "    # Train the neural network model\n",
        "    model.fit(train_embeddings, train_df['label'], epochs=100, batch_size=32)\n",
        "\n",
        "    # Evaluate the neural network model on the test data\n",
        "    test_loss, test_acc = model.evaluate(test_embeddings, test_df['label'])\n",
        "    print('Test accuracy:', test_acc)\n",
        "\n",
        "if __name__ == \"__main__\":\n",
        "    main()\n",
        "'''"
      ]
    },
    {
      "cell_type": "code",
      "execution_count": null,
      "metadata": {
        "id": "laCfJpSAzX5k"
      },
      "outputs": [],
      "source": [
        "# Load training and testing sets\n",
        "train_df = pd.read_csv('train_df_distilbert.csv')\n",
        "test_df = pd.read_csv('test_df_distilbert.csv')"
      ]
    },
    {
      "cell_type": "code",
      "execution_count": null,
      "metadata": {
        "id": "CDi99UJHzX5k"
      },
      "outputs": [],
      "source": [
        "# Load the saved embeddings from files\n",
        "train_embeddings_distil = np.load('train_embeddings_distilbert_1500rows.npy')\n",
        "test_embeddings_distil = np.load('test_embeddings_distilbert_1500rows.npy')"
      ]
    },
    {
      "cell_type": "code",
      "execution_count": null,
      "metadata": {
        "id": "HLunJksUzX5k",
        "outputId": "5d7123a4-7482-4433-c8fb-67f5912917d4"
      },
      "outputs": [
        {
          "name": "stdout",
          "output_type": "stream",
          "text": [
            "Epoch 1/50\n",
            "38/38 [==============================] - 1s 23ms/step - loss: 1.0409 - accuracy: 0.6225 - val_loss: 1.0005 - val_accuracy: 0.7800\n",
            "Epoch 2/50\n",
            "38/38 [==============================] - 1s 17ms/step - loss: 0.9677 - accuracy: 0.7508 - val_loss: 0.9165 - val_accuracy: 0.8067\n",
            "Epoch 3/50\n",
            "38/38 [==============================] - 1s 16ms/step - loss: 0.8962 - accuracy: 0.7908 - val_loss: 0.8469 - val_accuracy: 0.8300\n",
            "Epoch 4/50\n",
            "38/38 [==============================] - 1s 18ms/step - loss: 0.8477 - accuracy: 0.8075 - val_loss: 0.7929 - val_accuracy: 0.8367\n",
            "Epoch 5/50\n",
            "38/38 [==============================] - 1s 16ms/step - loss: 0.7852 - accuracy: 0.8300 - val_loss: 0.7503 - val_accuracy: 0.8367\n",
            "Epoch 6/50\n",
            "38/38 [==============================] - 1s 18ms/step - loss: 0.7566 - accuracy: 0.8383 - val_loss: 0.7274 - val_accuracy: 0.8433\n",
            "Epoch 7/50\n",
            "38/38 [==============================] - 1s 18ms/step - loss: 0.7297 - accuracy: 0.8467 - val_loss: 0.6910 - val_accuracy: 0.8600\n",
            "Epoch 8/50\n",
            "38/38 [==============================] - 1s 17ms/step - loss: 0.7031 - accuracy: 0.8417 - val_loss: 0.6715 - val_accuracy: 0.8700\n",
            "Epoch 9/50\n",
            "38/38 [==============================] - 1s 19ms/step - loss: 0.6872 - accuracy: 0.8558 - val_loss: 0.6559 - val_accuracy: 0.8600\n",
            "Epoch 10/50\n",
            "38/38 [==============================] - 1s 16ms/step - loss: 0.6607 - accuracy: 0.8567 - val_loss: 0.6400 - val_accuracy: 0.8633\n",
            "Epoch 11/50\n",
            "38/38 [==============================] - 1s 16ms/step - loss: 0.6445 - accuracy: 0.8658 - val_loss: 0.6271 - val_accuracy: 0.8733\n",
            "Epoch 12/50\n",
            "38/38 [==============================] - 1s 17ms/step - loss: 0.6332 - accuracy: 0.8583 - val_loss: 0.6146 - val_accuracy: 0.8700\n",
            "Epoch 13/50\n",
            "38/38 [==============================] - 1s 18ms/step - loss: 0.6225 - accuracy: 0.8658 - val_loss: 0.6044 - val_accuracy: 0.8667\n",
            "Epoch 14/50\n",
            "38/38 [==============================] - 1s 16ms/step - loss: 0.6041 - accuracy: 0.8800 - val_loss: 0.5988 - val_accuracy: 0.8733\n",
            "Epoch 15/50\n",
            "38/38 [==============================] - 1s 16ms/step - loss: 0.5874 - accuracy: 0.8775 - val_loss: 0.5878 - val_accuracy: 0.8633\n",
            "Epoch 16/50\n",
            "38/38 [==============================] - 1s 16ms/step - loss: 0.5932 - accuracy: 0.8725 - val_loss: 0.5826 - val_accuracy: 0.8733\n",
            "Epoch 17/50\n",
            "38/38 [==============================] - 1s 18ms/step - loss: 0.5766 - accuracy: 0.8875 - val_loss: 0.5755 - val_accuracy: 0.8667\n",
            "Epoch 18/50\n",
            "38/38 [==============================] - 1s 16ms/step - loss: 0.5643 - accuracy: 0.8825 - val_loss: 0.5687 - val_accuracy: 0.8700\n",
            "Epoch 19/50\n",
            "38/38 [==============================] - 1s 18ms/step - loss: 0.5501 - accuracy: 0.8992 - val_loss: 0.5607 - val_accuracy: 0.8733\n",
            "Epoch 20/50\n",
            "38/38 [==============================] - 1s 17ms/step - loss: 0.5471 - accuracy: 0.8900 - val_loss: 0.5590 - val_accuracy: 0.8667\n",
            "Epoch 21/50\n",
            "38/38 [==============================] - 1s 18ms/step - loss: 0.5484 - accuracy: 0.8908 - val_loss: 0.5538 - val_accuracy: 0.8700\n",
            "Epoch 22/50\n",
            "38/38 [==============================] - 1s 16ms/step - loss: 0.5336 - accuracy: 0.8833 - val_loss: 0.5509 - val_accuracy: 0.8700\n",
            "Epoch 23/50\n",
            "38/38 [==============================] - 1s 18ms/step - loss: 0.5329 - accuracy: 0.8883 - val_loss: 0.5422 - val_accuracy: 0.8700\n",
            "Epoch 24/50\n",
            "38/38 [==============================] - 1s 18ms/step - loss: 0.5155 - accuracy: 0.8908 - val_loss: 0.5382 - val_accuracy: 0.8700\n",
            "Epoch 25/50\n",
            "38/38 [==============================] - 1s 16ms/step - loss: 0.5094 - accuracy: 0.8950 - val_loss: 0.5373 - val_accuracy: 0.8733\n",
            "Epoch 26/50\n",
            "38/38 [==============================] - 1s 16ms/step - loss: 0.5122 - accuracy: 0.9000 - val_loss: 0.5320 - val_accuracy: 0.8733\n",
            "Epoch 27/50\n",
            "38/38 [==============================] - 1s 16ms/step - loss: 0.4986 - accuracy: 0.8975 - val_loss: 0.5276 - val_accuracy: 0.8733\n",
            "Epoch 28/50\n",
            "38/38 [==============================] - 1s 15ms/step - loss: 0.4887 - accuracy: 0.8958 - val_loss: 0.5238 - val_accuracy: 0.8733\n",
            "Epoch 29/50\n",
            "38/38 [==============================] - 1s 16ms/step - loss: 0.4914 - accuracy: 0.8975 - val_loss: 0.5185 - val_accuracy: 0.8800\n",
            "Epoch 30/50\n",
            "38/38 [==============================] - 1s 15ms/step - loss: 0.4792 - accuracy: 0.9000 - val_loss: 0.5156 - val_accuracy: 0.8800\n",
            "Epoch 31/50\n",
            "38/38 [==============================] - 1s 15ms/step - loss: 0.4772 - accuracy: 0.9025 - val_loss: 0.5151 - val_accuracy: 0.8767\n",
            "Epoch 32/50\n",
            "38/38 [==============================] - 1s 15ms/step - loss: 0.4727 - accuracy: 0.9000 - val_loss: 0.5103 - val_accuracy: 0.8800\n",
            "Epoch 33/50\n",
            "38/38 [==============================] - 1s 15ms/step - loss: 0.4618 - accuracy: 0.9125 - val_loss: 0.5094 - val_accuracy: 0.8767\n",
            "Epoch 34/50\n",
            "38/38 [==============================] - 1s 15ms/step - loss: 0.4615 - accuracy: 0.9025 - val_loss: 0.5029 - val_accuracy: 0.8800\n",
            "Epoch 35/50\n",
            "38/38 [==============================] - 1s 16ms/step - loss: 0.4551 - accuracy: 0.9092 - val_loss: 0.5007 - val_accuracy: 0.8767\n",
            "Epoch 36/50\n",
            "38/38 [==============================] - 1s 15ms/step - loss: 0.4507 - accuracy: 0.9017 - val_loss: 0.4966 - val_accuracy: 0.8800\n",
            "Epoch 37/50\n",
            "38/38 [==============================] - 1s 16ms/step - loss: 0.4444 - accuracy: 0.9075 - val_loss: 0.4972 - val_accuracy: 0.8833\n",
            "Epoch 38/50\n",
            "38/38 [==============================] - 1s 15ms/step - loss: 0.4521 - accuracy: 0.9050 - val_loss: 0.4918 - val_accuracy: 0.8800\n",
            "Epoch 39/50\n",
            "38/38 [==============================] - 1s 16ms/step - loss: 0.4369 - accuracy: 0.9125 - val_loss: 0.4890 - val_accuracy: 0.8767\n",
            "Epoch 40/50\n",
            "38/38 [==============================] - 1s 15ms/step - loss: 0.4363 - accuracy: 0.9125 - val_loss: 0.4850 - val_accuracy: 0.8767\n",
            "Epoch 41/50\n",
            "38/38 [==============================] - 1s 15ms/step - loss: 0.4302 - accuracy: 0.9117 - val_loss: 0.4826 - val_accuracy: 0.8767\n",
            "Epoch 42/50\n",
            "38/38 [==============================] - 1s 16ms/step - loss: 0.4306 - accuracy: 0.9158 - val_loss: 0.4927 - val_accuracy: 0.8800\n",
            "Epoch 43/50\n",
            "38/38 [==============================] - 1s 16ms/step - loss: 0.4228 - accuracy: 0.9158 - val_loss: 0.4861 - val_accuracy: 0.8767\n",
            "Epoch 44/50\n",
            "38/38 [==============================] - 1s 16ms/step - loss: 0.4198 - accuracy: 0.9108 - val_loss: 0.4761 - val_accuracy: 0.8767\n",
            "Epoch 45/50\n",
            "38/38 [==============================] - 1s 16ms/step - loss: 0.4134 - accuracy: 0.9142 - val_loss: 0.4750 - val_accuracy: 0.8833\n",
            "Epoch 46/50\n",
            "38/38 [==============================] - 1s 15ms/step - loss: 0.4146 - accuracy: 0.9175 - val_loss: 0.4823 - val_accuracy: 0.8800\n",
            "Epoch 47/50\n",
            "38/38 [==============================] - 1s 15ms/step - loss: 0.4159 - accuracy: 0.9083 - val_loss: 0.4695 - val_accuracy: 0.8867\n",
            "Epoch 48/50\n",
            "38/38 [==============================] - 1s 15ms/step - loss: 0.4015 - accuracy: 0.9192 - val_loss: 0.4709 - val_accuracy: 0.8800\n",
            "Epoch 49/50\n",
            "38/38 [==============================] - 1s 15ms/step - loss: 0.4045 - accuracy: 0.9133 - val_loss: 0.4691 - val_accuracy: 0.8800\n",
            "Epoch 50/50\n",
            "38/38 [==============================] - 1s 16ms/step - loss: 0.3999 - accuracy: 0.9217 - val_loss: 0.4633 - val_accuracy: 0.8700\n",
            "10/10 [==============================] - 0s 9ms/step - loss: 0.4633 - accuracy: 0.8700\n",
            "Test accuracy: 0.8700000047683716\n"
          ]
        }
      ],
      "source": [
        "# Define the neural network model\n",
        "model = keras.Sequential([\n",
        "    keras.layers.Dense(64, activation='relu', input_shape=(768,), \n",
        "                       kernel_regularizer=regularizers.l2(0.001)),\n",
        "    Dropout(0.1),\n",
        "    keras.layers.Dense(32, activation='relu', kernel_regularizer=regularizers.l2(0.001)),\n",
        "    Dropout(0.1),\n",
        "    keras.layers.Dense(16, activation='relu', kernel_regularizer=regularizers.l2(0.01)),\n",
        "    Dropout(0.1),\n",
        "    keras.layers.Dense(1, activation='sigmoid')\n",
        "])\n",
        "\n",
        "# Compile the neural network model\n",
        "model.compile(loss='binary_crossentropy',\n",
        "              optimizer=tf.keras.optimizers.legacy.Adam(learning_rate=0.0001),\n",
        "              metrics=['accuracy'])\n",
        "\n",
        "# Train the neural network model\n",
        "model.fit(train_embeddings_distil, train_df['label'], epochs=50, batch_size=32,\n",
        "          validation_data=(test_embeddings_distil, test_df['label']))\n",
        "\n",
        "# Evaluate the neural network model on the test data\n",
        "test_loss, test_acc = model.evaluate(test_embeddings_distil, test_df['label'])\n",
        "print('Test accuracy:', test_acc)"
      ]
    },
    {
      "cell_type": "code",
      "execution_count": null,
      "metadata": {
        "id": "HJ0nnG0-RURX"
      },
      "outputs": [],
      "source": [
        "# Load training and testing sets\n",
        "train_df = pd.read_csv('train_df_bert.csv')\n",
        "test_df = pd.read_csv('test_df_bert.csv')"
      ]
    },
    {
      "cell_type": "code",
      "execution_count": null,
      "metadata": {
        "id": "ACfnz0YdzX5l"
      },
      "outputs": [],
      "source": [
        "# Load the saved embeddings from files\n",
        "train_embeddings_non_distil = np.load('train_embeddings_bert_1500rows.npy')\n",
        "test_embeddings_non_distil = np.load('test_embeddings_bert_1500rows.npy')"
      ]
    },
    {
      "cell_type": "code",
      "execution_count": null,
      "metadata": {
        "id": "0q-mtm6yzX5l",
        "outputId": "b553eaa6-7e0c-4ba9-9dda-1b6c3f842b6b"
      },
      "outputs": [
        {
          "name": "stdout",
          "output_type": "stream",
          "text": [
            "Epoch 1/100\n",
            "38/38 [==============================] - 1s 29ms/step - loss: 8.7877 - accuracy: 0.5092 - val_loss: 8.5722 - val_accuracy: 0.5167\n",
            "Epoch 2/100\n",
            "38/38 [==============================] - 1s 21ms/step - loss: 8.3998 - accuracy: 0.5700 - val_loss: 8.1915 - val_accuracy: 0.7033\n",
            "Epoch 3/100\n",
            "38/38 [==============================] - 1s 20ms/step - loss: 8.0360 - accuracy: 0.6058 - val_loss: 7.8256 - val_accuracy: 0.7467\n",
            "Epoch 4/100\n",
            "38/38 [==============================] - 1s 20ms/step - loss: 7.6734 - accuracy: 0.6692 - val_loss: 7.4824 - val_accuracy: 0.7367\n",
            "Epoch 5/100\n",
            "38/38 [==============================] - 1s 21ms/step - loss: 7.3473 - accuracy: 0.7000 - val_loss: 7.1588 - val_accuracy: 0.8133\n",
            "Epoch 6/100\n",
            "38/38 [==============================] - 1s 21ms/step - loss: 7.0430 - accuracy: 0.7317 - val_loss: 6.8560 - val_accuracy: 0.8600\n",
            "Epoch 7/100\n",
            "38/38 [==============================] - 1s 22ms/step - loss: 6.7422 - accuracy: 0.7400 - val_loss: 6.5653 - val_accuracy: 0.8600\n",
            "Epoch 8/100\n",
            "38/38 [==============================] - 1s 23ms/step - loss: 6.4575 - accuracy: 0.7758 - val_loss: 6.2881 - val_accuracy: 0.8667\n",
            "Epoch 9/100\n",
            "38/38 [==============================] - 1s 21ms/step - loss: 6.1955 - accuracy: 0.7767 - val_loss: 6.0242 - val_accuracy: 0.8800\n",
            "Epoch 10/100\n",
            "38/38 [==============================] - 1s 20ms/step - loss: 5.9347 - accuracy: 0.7925 - val_loss: 5.7717 - val_accuracy: 0.8667\n",
            "Epoch 11/100\n",
            "38/38 [==============================] - 1s 22ms/step - loss: 5.6877 - accuracy: 0.7892 - val_loss: 5.5318 - val_accuracy: 0.8667\n",
            "Epoch 12/100\n",
            "38/38 [==============================] - 1s 22ms/step - loss: 5.4526 - accuracy: 0.8233 - val_loss: 5.3004 - val_accuracy: 0.8633\n",
            "Epoch 13/100\n",
            "38/38 [==============================] - 1s 20ms/step - loss: 5.2409 - accuracy: 0.7950 - val_loss: 5.0859 - val_accuracy: 0.8667\n",
            "Epoch 14/100\n",
            "38/38 [==============================] - 1s 21ms/step - loss: 5.0184 - accuracy: 0.8250 - val_loss: 4.8788 - val_accuracy: 0.8700\n",
            "Epoch 15/100\n",
            "38/38 [==============================] - 1s 20ms/step - loss: 4.8257 - accuracy: 0.8342 - val_loss: 4.6791 - val_accuracy: 0.8633\n",
            "Epoch 16/100\n",
            "38/38 [==============================] - 1s 23ms/step - loss: 4.6389 - accuracy: 0.8375 - val_loss: 4.4926 - val_accuracy: 0.8667\n",
            "Epoch 17/100\n",
            "38/38 [==============================] - 1s 23ms/step - loss: 4.4529 - accuracy: 0.8383 - val_loss: 4.3169 - val_accuracy: 0.8667\n",
            "Epoch 18/100\n",
            "38/38 [==============================] - 1s 22ms/step - loss: 4.2629 - accuracy: 0.8642 - val_loss: 4.1436 - val_accuracy: 0.8633\n",
            "Epoch 19/100\n",
            "38/38 [==============================] - 1s 22ms/step - loss: 4.1028 - accuracy: 0.8517 - val_loss: 3.9840 - val_accuracy: 0.8667\n",
            "Epoch 20/100\n",
            "38/38 [==============================] - 1s 23ms/step - loss: 3.9474 - accuracy: 0.8617 - val_loss: 3.8287 - val_accuracy: 0.8700\n",
            "Epoch 21/100\n",
            "38/38 [==============================] - 1s 23ms/step - loss: 3.7949 - accuracy: 0.8517 - val_loss: 3.6783 - val_accuracy: 0.8733\n",
            "Epoch 22/100\n",
            "38/38 [==============================] - 1s 21ms/step - loss: 3.6545 - accuracy: 0.8575 - val_loss: 3.5382 - val_accuracy: 0.8733\n",
            "Epoch 23/100\n",
            "38/38 [==============================] - 1s 19ms/step - loss: 3.5158 - accuracy: 0.8625 - val_loss: 3.4039 - val_accuracy: 0.8733\n",
            "Epoch 24/100\n",
            "38/38 [==============================] - 1s 19ms/step - loss: 3.3857 - accuracy: 0.8767 - val_loss: 3.2768 - val_accuracy: 0.8767\n",
            "Epoch 25/100\n",
            "38/38 [==============================] - 1s 22ms/step - loss: 3.2446 - accuracy: 0.8767 - val_loss: 3.1578 - val_accuracy: 0.8667\n",
            "Epoch 26/100\n",
            "38/38 [==============================] - 1s 20ms/step - loss: 3.1281 - accuracy: 0.8758 - val_loss: 3.0342 - val_accuracy: 0.8800\n",
            "Epoch 27/100\n",
            "38/38 [==============================] - 1s 23ms/step - loss: 3.0146 - accuracy: 0.8750 - val_loss: 2.9228 - val_accuracy: 0.8800\n",
            "Epoch 28/100\n",
            "38/38 [==============================] - 1s 22ms/step - loss: 2.8997 - accuracy: 0.8767 - val_loss: 2.8165 - val_accuracy: 0.8700\n",
            "Epoch 29/100\n",
            "38/38 [==============================] - 1s 20ms/step - loss: 2.7951 - accuracy: 0.8717 - val_loss: 2.7127 - val_accuracy: 0.8833\n",
            "Epoch 30/100\n",
            "38/38 [==============================] - 1s 21ms/step - loss: 2.7001 - accuracy: 0.8842 - val_loss: 2.6170 - val_accuracy: 0.8733\n",
            "Epoch 31/100\n",
            "38/38 [==============================] - 1s 21ms/step - loss: 2.6000 - accuracy: 0.8792 - val_loss: 2.5233 - val_accuracy: 0.8767\n",
            "Epoch 32/100\n",
            "38/38 [==============================] - 1s 22ms/step - loss: 2.5077 - accuracy: 0.8800 - val_loss: 2.4320 - val_accuracy: 0.8833\n",
            "Epoch 33/100\n",
            "38/38 [==============================] - 1s 21ms/step - loss: 2.4190 - accuracy: 0.8908 - val_loss: 2.3520 - val_accuracy: 0.8800\n",
            "Epoch 34/100\n",
            "38/38 [==============================] - 1s 22ms/step - loss: 2.3355 - accuracy: 0.8858 - val_loss: 2.2764 - val_accuracy: 0.8800\n",
            "Epoch 35/100\n",
            "38/38 [==============================] - 1s 22ms/step - loss: 2.2531 - accuracy: 0.8900 - val_loss: 2.1879 - val_accuracy: 0.8867\n",
            "Epoch 36/100\n",
            "38/38 [==============================] - 1s 22ms/step - loss: 2.1674 - accuracy: 0.8933 - val_loss: 2.1128 - val_accuracy: 0.8800\n",
            "Epoch 37/100\n",
            "38/38 [==============================] - 1s 22ms/step - loss: 2.1097 - accuracy: 0.8875 - val_loss: 2.0410 - val_accuracy: 0.8833\n",
            "Epoch 38/100\n",
            "38/38 [==============================] - 1s 23ms/step - loss: 2.0318 - accuracy: 0.8917 - val_loss: 1.9717 - val_accuracy: 0.8833\n",
            "Epoch 39/100\n",
            "38/38 [==============================] - 1s 21ms/step - loss: 1.9668 - accuracy: 0.8917 - val_loss: 1.9068 - val_accuracy: 0.8800\n",
            "Epoch 40/100\n",
            "38/38 [==============================] - 1s 22ms/step - loss: 1.9031 - accuracy: 0.8992 - val_loss: 1.8454 - val_accuracy: 0.8900\n",
            "Epoch 41/100\n",
            "38/38 [==============================] - 1s 21ms/step - loss: 1.8292 - accuracy: 0.8950 - val_loss: 1.7843 - val_accuracy: 0.8967\n",
            "Epoch 42/100\n",
            "38/38 [==============================] - 1s 21ms/step - loss: 1.7813 - accuracy: 0.9025 - val_loss: 1.7265 - val_accuracy: 0.8900\n",
            "Epoch 43/100\n",
            "38/38 [==============================] - 1s 21ms/step - loss: 1.7153 - accuracy: 0.8992 - val_loss: 1.6783 - val_accuracy: 0.8833\n",
            "Epoch 44/100\n",
            "38/38 [==============================] - 1s 22ms/step - loss: 1.6609 - accuracy: 0.8950 - val_loss: 1.6227 - val_accuracy: 0.8867\n",
            "Epoch 45/100\n",
            "38/38 [==============================] - 1s 23ms/step - loss: 1.6147 - accuracy: 0.8917 - val_loss: 1.5699 - val_accuracy: 0.8933\n",
            "Epoch 46/100\n",
            "38/38 [==============================] - 1s 22ms/step - loss: 1.5615 - accuracy: 0.9017 - val_loss: 1.5254 - val_accuracy: 0.8933\n",
            "Epoch 47/100\n",
            "38/38 [==============================] - 1s 22ms/step - loss: 1.5071 - accuracy: 0.9033 - val_loss: 1.4754 - val_accuracy: 0.8867\n",
            "Epoch 48/100\n",
            "38/38 [==============================] - 1s 22ms/step - loss: 1.4664 - accuracy: 0.9000 - val_loss: 1.4311 - val_accuracy: 0.8900\n",
            "Epoch 49/100\n",
            "38/38 [==============================] - 1s 22ms/step - loss: 1.4252 - accuracy: 0.8958 - val_loss: 1.3920 - val_accuracy: 0.8967\n",
            "Epoch 50/100\n",
            "38/38 [==============================] - 1s 22ms/step - loss: 1.3817 - accuracy: 0.9025 - val_loss: 1.3487 - val_accuracy: 0.8900\n",
            "Epoch 51/100\n",
            "38/38 [==============================] - 1s 21ms/step - loss: 1.3420 - accuracy: 0.9033 - val_loss: 1.3098 - val_accuracy: 0.8900\n",
            "Epoch 52/100\n",
            "38/38 [==============================] - 1s 23ms/step - loss: 1.2975 - accuracy: 0.9042 - val_loss: 1.2759 - val_accuracy: 0.8933\n",
            "Epoch 53/100\n",
            "38/38 [==============================] - 1s 22ms/step - loss: 1.2660 - accuracy: 0.9033 - val_loss: 1.2376 - val_accuracy: 0.8967\n",
            "Epoch 54/100\n",
            "38/38 [==============================] - 1s 22ms/step - loss: 1.2368 - accuracy: 0.9083 - val_loss: 1.2041 - val_accuracy: 0.8933\n",
            "Epoch 55/100\n",
            "38/38 [==============================] - 1s 22ms/step - loss: 1.1980 - accuracy: 0.9050 - val_loss: 1.1736 - val_accuracy: 0.8967\n",
            "Epoch 56/100\n",
            "38/38 [==============================] - 1s 22ms/step - loss: 1.1602 - accuracy: 0.9100 - val_loss: 1.1412 - val_accuracy: 0.8967\n",
            "Epoch 57/100\n",
            "38/38 [==============================] - 1s 22ms/step - loss: 1.1394 - accuracy: 0.9075 - val_loss: 1.1130 - val_accuracy: 0.9000\n",
            "Epoch 58/100\n"
          ]
        },
        {
          "name": "stdout",
          "output_type": "stream",
          "text": [
            "38/38 [==============================] - 1s 23ms/step - loss: 1.0994 - accuracy: 0.9125 - val_loss: 1.0847 - val_accuracy: 0.9000\n",
            "Epoch 59/100\n",
            "38/38 [==============================] - 1s 21ms/step - loss: 1.0795 - accuracy: 0.9100 - val_loss: 1.0664 - val_accuracy: 0.8767\n",
            "Epoch 60/100\n",
            "38/38 [==============================] - 1s 21ms/step - loss: 1.0502 - accuracy: 0.9067 - val_loss: 1.0331 - val_accuracy: 0.9000\n",
            "Epoch 61/100\n",
            "38/38 [==============================] - 1s 21ms/step - loss: 1.0185 - accuracy: 0.9067 - val_loss: 1.0093 - val_accuracy: 0.9033\n",
            "Epoch 62/100\n",
            "38/38 [==============================] - 1s 22ms/step - loss: 1.0077 - accuracy: 0.9058 - val_loss: 0.9858 - val_accuracy: 0.8967\n",
            "Epoch 63/100\n",
            "38/38 [==============================] - 1s 21ms/step - loss: 0.9789 - accuracy: 0.9067 - val_loss: 0.9654 - val_accuracy: 0.8867\n",
            "Epoch 64/100\n",
            "38/38 [==============================] - 1s 22ms/step - loss: 0.9575 - accuracy: 0.9075 - val_loss: 0.9445 - val_accuracy: 0.8867\n",
            "Epoch 65/100\n",
            "38/38 [==============================] - 1s 22ms/step - loss: 0.9327 - accuracy: 0.9183 - val_loss: 0.9270 - val_accuracy: 0.8833\n",
            "Epoch 66/100\n",
            "38/38 [==============================] - 1s 22ms/step - loss: 0.9227 - accuracy: 0.9042 - val_loss: 0.9068 - val_accuracy: 0.8867\n",
            "Epoch 67/100\n",
            "38/38 [==============================] - 1s 23ms/step - loss: 0.9006 - accuracy: 0.9100 - val_loss: 0.8879 - val_accuracy: 0.8933\n",
            "Epoch 68/100\n",
            "38/38 [==============================] - 1s 23ms/step - loss: 0.8783 - accuracy: 0.9133 - val_loss: 0.8738 - val_accuracy: 0.8933\n",
            "Epoch 69/100\n",
            "38/38 [==============================] - 1s 22ms/step - loss: 0.8594 - accuracy: 0.9108 - val_loss: 0.8554 - val_accuracy: 0.8967\n",
            "Epoch 70/100\n",
            "38/38 [==============================] - 1s 23ms/step - loss: 0.8469 - accuracy: 0.9100 - val_loss: 0.8378 - val_accuracy: 0.9033\n",
            "Epoch 71/100\n",
            "38/38 [==============================] - 1s 22ms/step - loss: 0.8288 - accuracy: 0.9150 - val_loss: 0.8237 - val_accuracy: 0.8967\n",
            "Epoch 72/100\n",
            "38/38 [==============================] - 1s 22ms/step - loss: 0.8157 - accuracy: 0.9092 - val_loss: 0.8086 - val_accuracy: 0.9000\n",
            "Epoch 73/100\n",
            "38/38 [==============================] - 1s 22ms/step - loss: 0.8035 - accuracy: 0.9083 - val_loss: 0.7958 - val_accuracy: 0.9000\n",
            "Epoch 74/100\n",
            "38/38 [==============================] - 1s 22ms/step - loss: 0.7837 - accuracy: 0.9125 - val_loss: 0.7822 - val_accuracy: 0.9000\n",
            "Epoch 75/100\n",
            "38/38 [==============================] - 1s 22ms/step - loss: 0.7698 - accuracy: 0.9150 - val_loss: 0.7704 - val_accuracy: 0.9033\n",
            "Epoch 76/100\n",
            "38/38 [==============================] - 1s 22ms/step - loss: 0.7709 - accuracy: 0.9058 - val_loss: 0.7586 - val_accuracy: 0.8933\n",
            "Epoch 77/100\n",
            "38/38 [==============================] - 1s 22ms/step - loss: 0.7506 - accuracy: 0.9133 - val_loss: 0.7602 - val_accuracy: 0.8767\n",
            "Epoch 78/100\n",
            "38/38 [==============================] - 1s 22ms/step - loss: 0.7350 - accuracy: 0.9175 - val_loss: 0.7367 - val_accuracy: 0.9000\n",
            "Epoch 79/100\n",
            "38/38 [==============================] - 1s 22ms/step - loss: 0.7281 - accuracy: 0.9117 - val_loss: 0.7311 - val_accuracy: 0.8933\n",
            "Epoch 80/100\n",
            "38/38 [==============================] - 1s 22ms/step - loss: 0.7177 - accuracy: 0.9100 - val_loss: 0.7204 - val_accuracy: 0.8933\n",
            "Epoch 81/100\n",
            "38/38 [==============================] - 1s 22ms/step - loss: 0.7071 - accuracy: 0.9150 - val_loss: 0.7070 - val_accuracy: 0.9000\n",
            "Epoch 82/100\n",
            "38/38 [==============================] - 1s 22ms/step - loss: 0.6943 - accuracy: 0.9208 - val_loss: 0.6998 - val_accuracy: 0.8967\n",
            "Epoch 83/100\n",
            "38/38 [==============================] - 1s 21ms/step - loss: 0.6819 - accuracy: 0.9175 - val_loss: 0.6923 - val_accuracy: 0.8933\n",
            "Epoch 84/100\n",
            "38/38 [==============================] - 1s 22ms/step - loss: 0.6795 - accuracy: 0.9192 - val_loss: 0.6840 - val_accuracy: 0.9000\n",
            "Epoch 85/100\n",
            "38/38 [==============================] - 1s 22ms/step - loss: 0.6703 - accuracy: 0.9142 - val_loss: 0.6884 - val_accuracy: 0.8767\n",
            "Epoch 86/100\n",
            "38/38 [==============================] - 1s 23ms/step - loss: 0.6602 - accuracy: 0.9250 - val_loss: 0.6699 - val_accuracy: 0.8967\n",
            "Epoch 87/100\n",
            "38/38 [==============================] - 1s 23ms/step - loss: 0.6545 - accuracy: 0.9183 - val_loss: 0.6619 - val_accuracy: 0.9000\n",
            "Epoch 88/100\n",
            "38/38 [==============================] - 1s 22ms/step - loss: 0.6486 - accuracy: 0.9142 - val_loss: 0.6606 - val_accuracy: 0.8800\n",
            "Epoch 89/100\n",
            "38/38 [==============================] - 1s 22ms/step - loss: 0.6405 - accuracy: 0.9150 - val_loss: 0.6503 - val_accuracy: 0.8967\n",
            "Epoch 90/100\n",
            "38/38 [==============================] - 1s 22ms/step - loss: 0.6336 - accuracy: 0.9242 - val_loss: 0.6450 - val_accuracy: 0.8967\n",
            "Epoch 91/100\n",
            "38/38 [==============================] - 1s 23ms/step - loss: 0.6334 - accuracy: 0.9192 - val_loss: 0.6402 - val_accuracy: 0.8967\n",
            "Epoch 92/100\n",
            "38/38 [==============================] - 1s 22ms/step - loss: 0.6241 - accuracy: 0.9217 - val_loss: 0.6338 - val_accuracy: 0.9000\n",
            "Epoch 93/100\n",
            "38/38 [==============================] - 1s 22ms/step - loss: 0.6170 - accuracy: 0.9233 - val_loss: 0.6286 - val_accuracy: 0.9000\n",
            "Epoch 94/100\n",
            "38/38 [==============================] - 1s 23ms/step - loss: 0.6112 - accuracy: 0.9225 - val_loss: 0.6256 - val_accuracy: 0.9033\n",
            "Epoch 95/100\n",
            "38/38 [==============================] - 1s 22ms/step - loss: 0.6092 - accuracy: 0.9158 - val_loss: 0.6230 - val_accuracy: 0.8967\n",
            "Epoch 96/100\n",
            "38/38 [==============================] - 1s 22ms/step - loss: 0.6036 - accuracy: 0.9150 - val_loss: 0.6156 - val_accuracy: 0.9033\n",
            "Epoch 97/100\n",
            "38/38 [==============================] - 1s 23ms/step - loss: 0.5954 - accuracy: 0.9233 - val_loss: 0.6138 - val_accuracy: 0.8800\n",
            "Epoch 98/100\n",
            "38/38 [==============================] - 1s 22ms/step - loss: 0.5926 - accuracy: 0.9150 - val_loss: 0.6091 - val_accuracy: 0.8800\n",
            "Epoch 99/100\n",
            "38/38 [==============================] - 1s 22ms/step - loss: 0.5904 - accuracy: 0.9150 - val_loss: 0.6047 - val_accuracy: 0.8800\n",
            "Epoch 100/100\n",
            "38/38 [==============================] - 1s 22ms/step - loss: 0.5831 - accuracy: 0.9167 - val_loss: 0.5991 - val_accuracy: 0.9000\n",
            "10/10 [==============================] - 0s 14ms/step - loss: 0.5991 - accuracy: 0.9000\n",
            "Test accuracy: 0.8999999761581421\n"
          ]
        }
      ],
      "source": [
        "# Define the neural network model with L2 regularization and dropout\n",
        "model = keras.Sequential([\n",
        "    keras.layers.Dense(64, activation='relu', input_shape=(768,), \n",
        "                       kernel_regularizer=regularizers.l2(0.01)),\n",
        "    Dropout(0.3),\n",
        "    keras.layers.Dense(64, activation='relu', kernel_regularizer=regularizers.l2(0.01)),\n",
        "    Dropout(0.2),\n",
        "    keras.layers.Dense(32, activation='relu', kernel_regularizer=regularizers.l2(0.1)),\n",
        "    Dropout(0.2),\n",
        "    keras.layers.Dense(16, activation='relu', kernel_regularizer=regularizers.l2(0.1)),\n",
        "    Dropout(0.2),\n",
        "    keras.layers.Dense(1, activation='sigmoid')\n",
        "])\n",
        "\n",
        "# Compile the neural network model\n",
        "model.compile(loss='binary_crossentropy',\n",
        "              optimizer=tf.keras.optimizers.legacy.Adam(learning_rate=0.0001),\n",
        "              metrics=['accuracy'])\n",
        "\n",
        "# Train the neural network model\n",
        "model.fit(train_embeddings_non_distil, train_df['label'], epochs=100, batch_size=32,\n",
        "         validation_data=(test_embeddings_non_distil, test_df['label']))\n",
        "\n",
        "# Evaluate the neural network model on the test data\n",
        "test_loss, test_acc = model.evaluate(test_embeddings_non_distil, test_df['label'])\n",
        "print('Test accuracy:', test_acc)"
      ]
    },
    {
      "cell_type": "code",
      "execution_count": null,
      "metadata": {
        "id": "E4vhaF0dzX5l"
      },
      "outputs": [],
      "source": []
    }
  ],
  "metadata": {
    "colab": {
      "provenance": [],
      "toc_visible": true
    },
    "kernelspec": {
      "display_name": "Python 3 (ipykernel)",
      "language": "python",
      "name": "python3"
    },
    "language_info": {
      "codemirror_mode": {
        "name": "ipython",
        "version": 3
      },
      "file_extension": ".py",
      "mimetype": "text/x-python",
      "name": "python",
      "nbconvert_exporter": "python",
      "pygments_lexer": "ipython3",
      "version": "3.10.9"
    }
  },
  "nbformat": 4,
  "nbformat_minor": 0
}